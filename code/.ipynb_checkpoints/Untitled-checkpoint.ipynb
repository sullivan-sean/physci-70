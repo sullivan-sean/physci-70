{
 "cells": [
  {
   "cell_type": "code",
   "execution_count": 130,
   "metadata": {},
   "outputs": [],
   "source": [
    "import numpy as np\n",
    "import pandas as pd\n",
    "import matplotlib.pyplot as plt\n",
    "import matplotlib.animation as animation\n",
    "from matplotlib import rc, animation\n",
    "rc('animation', html='html5')\n",
    "\n",
    "\n",
    "df = pd.read_csv('vids/data_6.csv')\n",
    "df.time /= 1000\n",
    "#start = 460\n",
    "#end = 475\n",
    "plot_len = 3 # seconds\n",
    "#start -= plot_len\n",
    "#end += plot_len\n",
    "# df = df[(start < df.time) & (df.time < end)].drop('signal', axis=1)\n",
    "df = df[::3].drop('signal', axis=1)\n",
    "time_diff = np.diff(df.time.values).mean()\n",
    "num_points = int(np.ceil(plot_len / time_diff))"
   ]
  },
  {
   "cell_type": "code",
   "execution_count": 131,
   "metadata": {},
   "outputs": [
    {
     "data": {
      "text/html": [
       "<div>\n",
       "<style scoped>\n",
       "    .dataframe tbody tr th:only-of-type {\n",
       "        vertical-align: middle;\n",
       "    }\n",
       "\n",
       "    .dataframe tbody tr th {\n",
       "        vertical-align: top;\n",
       "    }\n",
       "\n",
       "    .dataframe thead th {\n",
       "        text-align: right;\n",
       "    }\n",
       "</style>\n",
       "<table border=\"1\" class=\"dataframe\">\n",
       "  <thead>\n",
       "    <tr style=\"text-align: right;\">\n",
       "      <th></th>\n",
       "      <th>x</th>\n",
       "      <th>y</th>\n",
       "      <th>z</th>\n",
       "      <th>time</th>\n",
       "    </tr>\n",
       "  </thead>\n",
       "  <tbody>\n",
       "    <tr>\n",
       "      <th>0</th>\n",
       "      <td>-0.678955</td>\n",
       "      <td>-0.013672</td>\n",
       "      <td>0.827881</td>\n",
       "      <td>307.667</td>\n",
       "    </tr>\n",
       "    <tr>\n",
       "      <th>3</th>\n",
       "      <td>-0.676758</td>\n",
       "      <td>-0.014404</td>\n",
       "      <td>0.823730</td>\n",
       "      <td>307.768</td>\n",
       "    </tr>\n",
       "    <tr>\n",
       "      <th>6</th>\n",
       "      <td>-0.679443</td>\n",
       "      <td>0.011719</td>\n",
       "      <td>0.831787</td>\n",
       "      <td>307.870</td>\n",
       "    </tr>\n",
       "    <tr>\n",
       "      <th>9</th>\n",
       "      <td>-0.687988</td>\n",
       "      <td>0.010010</td>\n",
       "      <td>0.841064</td>\n",
       "      <td>307.971</td>\n",
       "    </tr>\n",
       "    <tr>\n",
       "      <th>12</th>\n",
       "      <td>-0.679688</td>\n",
       "      <td>-0.004883</td>\n",
       "      <td>0.846191</td>\n",
       "      <td>308.072</td>\n",
       "    </tr>\n",
       "  </tbody>\n",
       "</table>\n",
       "</div>"
      ],
      "text/plain": [
       "           x         y         z     time\n",
       "0  -0.678955 -0.013672  0.827881  307.667\n",
       "3  -0.676758 -0.014404  0.823730  307.768\n",
       "6  -0.679443  0.011719  0.831787  307.870\n",
       "9  -0.687988  0.010010  0.841064  307.971\n",
       "12 -0.679688 -0.004883  0.846191  308.072"
      ]
     },
     "execution_count": 131,
     "metadata": {},
     "output_type": "execute_result"
    }
   ],
   "source": [
    "df.head()"
   ]
  },
  {
   "cell_type": "code",
   "execution_count": 132,
   "metadata": {},
   "outputs": [
    {
     "data": {
      "text/plain": [
       "(30, 0.1011612903225809)"
      ]
     },
     "execution_count": 132,
     "metadata": {},
     "output_type": "execute_result"
    }
   ],
   "source": [
    "num_points, time_diff"
   ]
  },
  {
   "cell_type": "code",
   "execution_count": 133,
   "metadata": {},
   "outputs": [
    {
     "data": {
      "text/plain": [
       "218"
      ]
     },
     "execution_count": 133,
     "metadata": {},
     "output_type": "execute_result"
    }
   ],
   "source": [
    "len(df)"
   ]
  },
  {
   "cell_type": "code",
   "execution_count": 134,
   "metadata": {},
   "outputs": [
    {
     "data": {
      "image/png": "[encoded data removed]",
      "text/plain": [
       "<Figure size 432x288 with 1 Axes>"
      ]
     },
     "metadata": {
      "needs_background": "light"
     },
     "output_type": "display_data"
    }
   ],
   "source": [
    "fig, ax = plt.subplots()\n",
    "\n",
    "keys = ['x', 'y', 'z']\n",
    "lines = {}\n",
    "for col in keys:\n",
    "    lines[col], = ax.plot(df.time[:num_points], df[col][:num_points], label=col)\n",
    "plt.legend(loc='upper right')\n",
    "ax.set_ylim(-2.5, 2.5)\n",
    "\n",
    "def func(i):\n",
    "    x = df[i:i+num_points].time\n",
    "    stime = df.iloc[0].time + i * time_diff\n",
    "    ax.set_xlim(stime, stime + num_points * time_diff)\n",
    "    for key in keys:\n",
    "        lines[key].set_xdata(x)\n",
    "        lines[key].set_ydata(df[i:i+num_points][key])\n",
    "    return tuple([lines[k] for k in keys])\n",
    "\n",
    "\n",
    "ani = animation.FuncAnimation(fig, func, frames=len(df) - num_points, interval=time_diff * 1000, blit=False)\n",
    "ani.save(\"plot.mp4\")"
   ]
  },
  {
   "cell_type": "code",
   "execution_count": null,
   "metadata": {},
   "outputs": [],
   "source": [
    "ani"
   ]
  }
 ],
 "metadata": {
  "kernelspec": {
   "display_name": "Python 3",
   "language": "python",
   "name": "python3"
  },
  "language_info": {
   "codemirror_mode": {
    "name": "ipython",
    "version": 3
   },
   "file_extension": ".py",
   "mimetype": "text/x-python",
   "name": "python",
   "nbconvert_exporter": "python",
   "pygments_lexer": "ipython3",
   "version": "3.8.2"
  }
 },
 "nbformat": 4,
 "nbformat_minor": 2
}
